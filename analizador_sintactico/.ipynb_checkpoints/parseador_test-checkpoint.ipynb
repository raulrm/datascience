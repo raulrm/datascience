{
 "cells": [
  {
   "cell_type": "code",
   "execution_count": 3,
   "id": "fffc7f84",
   "metadata": {},
   "outputs": [],
   "source": [
    "import nltk"
   ]
  },
  {
   "cell_type": "code",
   "execution_count": 4,
   "id": "525ddd8e",
   "metadata": {},
   "outputs": [
    {
     "name": "stdout",
     "output_type": "stream",
     "text": [
      "showing info https://raw.githubusercontent.com/nltk/nltk_data/gh-pages/index.xml\n"
     ]
    },
    {
     "data": {
      "text/plain": [
       "True"
      ]
     },
     "execution_count": 4,
     "metadata": {},
     "output_type": "execute_result"
    }
   ],
   "source": [
    "nltk.download()"
   ]
  },
  {
   "cell_type": "code",
   "execution_count": 5,
   "id": "a7824acc",
   "metadata": {},
   "outputs": [
    {
     "name": "stdout",
     "output_type": "stream",
     "text": [
      "('arabic', 'danish', 'dutch', 'english', 'finnish', 'french', 'german', 'hungarian', 'italian', 'norwegian', 'porter', 'portuguese', 'romanian', 'russian', 'spanish', 'swedish')\n"
     ]
    }
   ],
   "source": [
    "from nltk.stem import SnowballStemmer\n",
    "\n",
    "print(SnowballStemmer.languages)"
   ]
  },
  {
   "cell_type": "code",
   "execution_count": 7,
   "id": "e671cdb1",
   "metadata": {},
   "outputs": [
    {
     "name": "stdout",
     "output_type": "stream",
     "text": [
      "trabaj\n"
     ]
    }
   ],
   "source": [
    "es_stemmer = SnowballStemmer('spanish')\n",
    "\n",
    "print(es_stemmer.stem('trabajador'))"
   ]
  },
  {
   "cell_type": "markdown",
   "id": "baa8e253",
   "metadata": {},
   "source": [
    "No se puede usar nltk en español, parece que habra que probar con spacy pero la doc es scarcy\n"
   ]
  },
  {
   "cell_type": "code",
   "execution_count": 10,
   "id": "9d83db58",
   "metadata": {},
   "outputs": [],
   "source": [
    "import spacy"
   ]
  },
  {
   "cell_type": "code",
   "execution_count": 25,
   "id": "81c4657c",
   "metadata": {},
   "outputs": [
    {
     "name": "stdout",
     "output_type": "stream",
     "text": [
      "Apple Apple PROPN PROPN nsubj Xxxxx True False\n",
      "is is NOUN NOUN ROOT xx True False\n",
      "looking looking NOUN NOUN obj xxxx True False\n",
      "at at PROPN PROPN amod xx True False\n",
      "buying buying NOUN NOUN obj xxxx True False\n",
      "U.K. U.K. PROPN PROPN appos X.X. False False\n",
      "startup startup VERB VERB advcl xxxx True False\n",
      "for for PROPN PROPN obj xxx True False\n",
      "$ $ NUM NUM obj $ False False\n",
      "1 1 NUM NUM appos d False False\n",
      "billion billion NOUN NOUN obj xxxx True False\n"
     ]
    }
   ],
   "source": [
    "import spacy\n",
    "\n",
    "nlp = spacy.load(\"es_core_news_sm\")\n",
    "# nlp = spacy.load(\"en_core_web_sm\")\n",
    "doc = nlp(\"Apple is looking at buying U.K. startup for $1 billion\")\n",
    "\n",
    "for token in doc:\n",
    "    print(token.text, token.lemma_, token.pos_, token.tag_, token.dep_,\n",
    "            token.shape_, token.is_alpha, token.is_stop)"
   ]
  },
  {
   "cell_type": "code",
   "execution_count": 30,
   "id": "f235b1b3",
   "metadata": {},
   "outputs": [
    {
     "name": "stdout",
     "output_type": "stream",
     "text": [
      "Tres tristes tigres,tragaban trigo en un trigal,en tres tristes trastos,tragaban trigo tres tristes tigres.\n",
      "Tres NUM nummod tres\n",
      "tristes NOUN nsubj trist\n",
      "tigres NOUN nmod tigre\n",
      ", PUNCT punct ,\n",
      "tragaban VERB ROOT tragar\n",
      "trigo NOUN obj trigo\n",
      "en ADP case en\n",
      "un DET det uno\n",
      "trigal NOUN obl trigal\n",
      ", PUNCT punct ,\n",
      "en ADP case en\n",
      "tres NUM nummod tres\n",
      "tristes NOUN obl trist\n",
      "trastos ADJ amod trasto\n",
      ", PUNCT punct ,\n",
      "tragaban VERB advcl tragar\n",
      "trigo NOUN conj trigo\n",
      "tres NUM nummod tres\n",
      "tristes NOUN obj trist\n",
      "tigres NOUN amod tigre\n",
      ". PUNCT punct .\n"
     ]
    }
   ],
   "source": [
    "import spacy\n",
    "from spacy.lang.es.examples import sentences \n",
    "\n",
    "nlp = spacy.load(\"es_core_news_sm\")\n",
    "#doc = nlp(sentences[11])\n",
    "doc = nlp('Tres tristes tigres,tragaban trigo en un trigal,en tres tristes trastos,tragaban trigo tres tristes tigres.')\n",
    "print(doc.text)\n",
    "for token in doc:\n",
    "    print(token.text, token.pos_, token.dep_, token.lemma_)"
   ]
  },
  {
   "cell_type": "code",
   "execution_count": null,
   "id": "b876caad",
   "metadata": {},
   "outputs": [],
   "source": [
    "import spacy\n",
    "from spacy import displacy\n",
    "\n",
    "nlp = spacy.load(\"es_core_news_sm\")\n",
    "# doc = nlp(sentences[1])\n",
    "doc = nlp(\"En medio de un país en bancarrota y tras una semana con golpes para el oficialismo, el Presidente retomó la idea de Alfonsín con Viedma y de ser candidato en 2023.\n",
    "\")\n",
    "displacy.serve(doc, style=\"dep\")"
   ]
  }
 ],
 "metadata": {
  "kernelspec": {
   "display_name": "Python 3",
   "language": "python",
   "name": "python3"
  },
  "language_info": {
   "codemirror_mode": {
    "name": "ipython",
    "version": 3
   },
   "file_extension": ".py",
   "mimetype": "text/x-python",
   "name": "python",
   "nbconvert_exporter": "python",
   "pygments_lexer": "ipython3",
   "version": "3.9.4"
  },
  "latex_envs": {
   "LaTeX_envs_menu_present": false,
   "autoclose": true,
   "autocomplete": true,
   "bibliofile": "biblio.bib",
   "cite_by": "apalike",
   "current_citInitial": 1,
   "eqLabelWithNumbers": false,
   "eqNumInitial": 1,
   "hotkeys": {
    "equation": "Ctrl-E",
    "itemize": "Ctrl-I"
   },
   "labels_anchors": false,
   "latex_user_defs": false,
   "report_style_numbering": false,
   "user_envs_cfg": false
  }
 },
 "nbformat": 4,
 "nbformat_minor": 5
}
